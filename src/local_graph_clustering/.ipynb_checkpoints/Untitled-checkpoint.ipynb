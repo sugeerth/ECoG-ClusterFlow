{
 "cells": [
  {
   "cell_type": "code",
   "execution_count": null,
   "metadata": {
    "collapsed": true
   },
   "outputs": [],
   "source": [
    "# Load some modules.\n",
    "from pylab import * # for plotting\n",
    "import numpy as np\n",
    "from scipy import sparse as sp\n",
    "\n",
    "# We need to import the graph_tool module itself.\n",
    "from graph_tool.all import *            \n",
    "\n",
    "# Load data from txt.\n",
    "ld_data = np.loadtxt('senate-unrolled.txt', dtype = 'Int64')\n",
    "\n",
    "# Add data to graphtool. This is for obtaining the Adjacency\n",
    "# matrix. It is also useful for plotting. \n",
    "# If you have other ways of calculating the former quantities \n",
    "# and plotting then you can comment the following lines out.\n",
    "g = Graph(directed=False)\n",
    "m = len(ld_data[:,0])\n",
    "for i in range(m):\n",
    "    g.add_edge(ld_data[i,0], ld_data[i,1], add_missing=True)  \n",
    "    \n",
    "remove_self_loops(g)\n",
    "\n",
    "# Obtain adjacency from graph_tool.\n",
    "A = adjacency(g)\n",
    "A = A.multiply(0.5)\n",
    "n = A.shape[0]\n",
    "A.setdiag(0, k=0)\n",
    "\n",
    "# Calculate directed incidence.\n",
    "Atriu = sp.triu(A)\n",
    "ei,ej = Atriu.nonzero()\n",
    "Atriu = []; m = len(ei)\n",
    "    \n",
    "data  = np.append(np.ones((m,1)),-np.ones((m,1)))\n",
    "idx_i = np.append(np.array(xrange(m)),np.array(xrange(m)))\n",
    "idx_j = np.append(ei,ej)\n",
    "B     = sp.csc_matrix((data, (idx_i, idx_j)), shape=(m, n))\n",
    "data  = []; idx_i = []; idx_j = []; ei = []; ej = []\n",
    "\n",
    "dd = A.sum(axis=1)\n",
    "\n",
    "prop = g.new_vertex_property(\"vector<double>\")\n",
    "for i in xrange(n):\n",
    "    prop[i] = [1 + i,1 + i]\n",
    "\n",
    "#openmp_set_num_threads(1) \n",
    "\n",
    "# Compute a layout for the graph.\n",
    "pos = sfdp_layout(g, gamma=10.0, mu=10.0, mu_p=10.0, verbose = False, pos=prop) \n",
    "\n",
    "# Compute a layout for the graph.\n",
    "pos2 = sfdp_layout(g, gamma=10.0, mu=10.0, mu_p=10.0, verbose = False, pos=prop) "
   ]
  }
 ],
 "metadata": {
  "kernelspec": {
   "display_name": "Python 2",
   "language": "python",
   "name": "python2"
  },
  "language_info": {
   "codemirror_mode": {
    "name": "ipython",
    "version": 2
   },
   "file_extension": ".py",
   "mimetype": "text/x-python",
   "name": "python",
   "nbconvert_exporter": "python",
   "pygments_lexer": "ipython2",
   "version": "2.7.11"
  }
 },
 "nbformat": 4,
 "nbformat_minor": 0
}
